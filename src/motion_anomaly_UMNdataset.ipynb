{
 "cells": [
  {
   "cell_type": "markdown",
   "metadata": {},
   "source": [
    "### Motion Anomaly Detection"
   ]
  },
  {
   "cell_type": "code",
   "execution_count": 1,
   "metadata": {},
   "outputs": [],
   "source": [
    "import numpy as np\n",
    "import sympy as sp\n",
    "import scipy \n",
    "import matplotlib.pyplot as plt\n",
    "from sympy import Matrix\n",
    "import cv2\n",
    "from cv2 import *\n",
    "from scipy.optimize import least_squares, lsq_linear\n",
    "import sys\n",
    "import cma\n",
    "from sklearn.cluster import KMeans\n"
   ]
  },
  {
   "cell_type": "code",
   "execution_count": 21,
   "metadata": {},
   "outputs": [
    {
     "name": "stdout",
     "output_type": "stream",
     "text": [
      "****************************CLIP***********************************= 1\n"
     ]
    },
    {
     "name": "stderr",
     "output_type": "stream",
     "text": [
      "/home/pranav/anaconda2/lib/python2.7/site-packages/ipykernel_launcher.py:28: FutureWarning: `rcond` parameter will change to the default of machine precision times ``max(M, N)`` where M and N are the input matrix dimensions.\n",
      "To use the future default and silence this warning we advise to pass `rcond=None`, to keep using the old, explicitly pass `rcond=-1`.\n"
     ]
    },
    {
     "name": "stdout",
     "output_type": "stream",
     "text": [
      "<built-in function phase> 1.0 [4 3]\n",
      "****************************CLIP***********************************= 2\n",
      "<built-in function phase> 1.0 [3 3]\n",
      "****************************CLIP***********************************= 3\n",
      "<built-in function phase> 1.0 [4 2]\n",
      "****************************CLIP***********************************= 4\n",
      "<built-in function phase> 1.0 [3 4]\n",
      "****************************CLIP***********************************= 5\n",
      "<built-in function phase> 1.0 [3 4]\n",
      "****************************CLIP***********************************= 6\n",
      "<built-in function phase> 1.0 [3 3]\n",
      "****************************CLIP***********************************= 7\n",
      "<built-in function phase> 1.0 [3 5]\n",
      "****************************CLIP***********************************= 8\n",
      "<built-in function phase> 1.0 [5 2]\n",
      "****************************CLIP***********************************= 9\n",
      "****************************CLIP***********************************= 10\n",
      "****************************CLIP***********************************= 11\n",
      "****************************CLIP***********************************= 12\n",
      "****************************CLIP***********************************= 13\n",
      "****************************CLIP***********************************= 14\n",
      "****************************CLIP***********************************= 15\n",
      "****************************CLIP***********************************= 16\n",
      "****************************CLIP***********************************= 17\n",
      "****************************CLIP***********************************= 18\n",
      "<built-in function phase> 1.0 [4 4]\n",
      "****************************CLIP***********************************= 19\n",
      "<built-in function phase> 1.0 [3 3]\n",
      "****************************CLIP***********************************= 20\n",
      "<built-in function phase> 1.0 [4 3]\n",
      "****************************CLIP***********************************= 21\n",
      "<built-in function phase> 1.0 [4 3]\n",
      "<built-in function phase> 1.0 [4 3]\n",
      "************ANOMALY ANOMALY ANOMALY ANOMALY DETECTED**************= 21\n",
      "****************************CLIP***********************************= 22\n",
      "<built-in function phase> 1.0 [3 4]\n",
      "<built-in function phase> 1.0 [3 3]\n",
      "************ANOMALY ANOMALY ANOMALY ANOMALY DETECTED**************= 22\n",
      "****************************CLIP***********************************= 23\n",
      "<built-in function phase> 1.0 [4 3]\n",
      "<built-in function phase> 1.0 [6 3]\n",
      "************ANOMALY ANOMALY ANOMALY ANOMALY DETECTED**************= 23\n",
      "****************************CLIP***********************************= 24\n",
      "<built-in function phase> 1.0 [5 4]\n",
      "<built-in function phase> 1.0 [1 1]\n",
      "************ANOMALY ANOMALY ANOMALY ANOMALY DETECTED**************= 24\n",
      "****************************CLIP***********************************= 25\n",
      "<built-in function phase> 1.0 [3 4]\n",
      "<built-in function phase> 1.0 [2 2]\n",
      "************ANOMALY ANOMALY ANOMALY ANOMALY DETECTED**************= 25\n",
      "****************************CLIP***********************************= 26\n",
      "<built-in function phase> 1.0 [2 3]\n",
      "****************************CLIP***********************************= 27\n",
      "<built-in function phase> 1.0 [6 1]\n",
      "****************************CLIP***********************************= 28\n",
      "<built-in function phase> 1.0 [4 2]\n",
      "****************************CLIP***********************************= 29\n",
      "<built-in function phase> 1.0 [3 3]\n",
      "****************************CLIP***********************************= 30\n",
      "<built-in function phase> 1.0 [3 4]\n",
      "****************************CLIP***********************************= 31\n",
      "<built-in function phase> 1.0 [3 3]\n",
      "****************************CLIP***********************************= 32\n",
      "<built-in function phase> 1.0 [4 5]\n",
      "<built-in function phase> 1.0 [3 3]\n",
      "****************************CLIP***********************************= 33\n",
      "<built-in function phase> 1.0 [3 4]\n",
      "<built-in function phase> 1.0 [4 2]\n",
      "****************************CLIP***********************************= 34\n",
      "<built-in function phase> 1.0 [4 3]\n",
      "<built-in function phase> 1.0 [4 4]\n",
      "****************************CLIP***********************************= 35\n",
      "<built-in function phase> 1.0 [2 3]\n",
      "<built-in function phase> 1.0 [5 4]\n",
      "****************************CLIP***********************************= 36\n",
      "<built-in function phase> 1.0 [3 3]\n",
      "<built-in function phase> 1.0 [5 4]\n",
      "****************************CLIP***********************************= 37\n",
      "<built-in function phase> 1.0 [5 3]\n",
      "****************************CLIP***********************************= 38\n",
      "<built-in function phase> 1.0 [5 4]\n",
      "****************************CLIP***********************************= 39\n",
      "<built-in function phase> 1.0 [4 5]\n",
      "****************************CLIP***********************************= 40\n",
      "****************************CLIP***********************************= 41\n",
      "****************************CLIP***********************************= 42\n",
      "****************************CLIP***********************************= 43\n",
      "<built-in function phase> 1.0 [4 3]\n",
      "************ANOMALY ANOMALY ANOMALY ANOMALY DETECTED**************= 43\n",
      "0\n",
      "************************Phase_map************************ <type 'numpy.ndarray'>\n",
      "****************************CLIP*************************\n",
      "43\n",
      "[21, 22, 23, 24, 25, 43]\n"
     ]
    },
    {
     "data": {
      "text/plain": [
       "<matplotlib.figure.Figure at 0x7f7ea4cf93d0>"
      ]
     },
     "metadata": {},
     "output_type": "display_data"
    },
    {
     "data": {
      "text/plain": [
       "<matplotlib.figure.Figure at 0x7f7ea481f310>"
      ]
     },
     "metadata": {},
     "output_type": "display_data"
    },
    {
     "data": {
      "text/plain": [
       "<matplotlib.figure.Figure at 0x7f7ea4ef8690>"
      ]
     },
     "metadata": {},
     "output_type": "display_data"
    },
    {
     "data": {
      "text/plain": [
       "<matplotlib.figure.Figure at 0x7f7e9bc16d50>"
      ]
     },
     "metadata": {},
     "output_type": "display_data"
    },
    {
     "data": {
      "text/plain": [
       "<matplotlib.figure.Figure at 0x7f7e9bcbc0d0>"
      ]
     },
     "metadata": {},
     "output_type": "display_data"
    },
    {
     "data": {
      "text/plain": [
       "<matplotlib.figure.Figure at 0x7f7ea43703d0>"
      ]
     },
     "metadata": {},
     "output_type": "display_data"
    },
    {
     "data": {
      "text/plain": [
       "<matplotlib.figure.Figure at 0x7f7e9bc992d0>"
      ]
     },
     "metadata": {},
     "output_type": "display_data"
    },
    {
     "data": {
      "text/plain": [
       "<matplotlib.figure.Figure at 0x7f7e9bc54390>"
      ]
     },
     "metadata": {},
     "output_type": "display_data"
    },
    {
     "data": {
      "text/plain": [
       "<matplotlib.figure.Figure at 0x7f7ea513cb50>"
      ]
     },
     "metadata": {},
     "output_type": "display_data"
    },
    {
     "data": {
      "text/plain": [
       "<matplotlib.figure.Figure at 0x7f7ea59c0550>"
      ]
     },
     "metadata": {},
     "output_type": "display_data"
    },
    {
     "data": {
      "text/plain": [
       "<matplotlib.figure.Figure at 0x7f7e9bc54110>"
      ]
     },
     "metadata": {},
     "output_type": "display_data"
    },
    {
     "data": {
      "text/plain": [
       "<matplotlib.figure.Figure at 0x7f7ea52fee50>"
      ]
     },
     "metadata": {},
     "output_type": "display_data"
    },
    {
     "data": {
      "text/plain": [
       "<matplotlib.figure.Figure at 0x7f7ea51a0dd0>"
      ]
     },
     "metadata": {},
     "output_type": "display_data"
    },
    {
     "data": {
      "text/plain": [
       "<matplotlib.figure.Figure at 0x7f7e9bd0bb90>"
      ]
     },
     "metadata": {},
     "output_type": "display_data"
    },
    {
     "data": {
      "text/plain": [
       "<matplotlib.figure.Figure at 0x7f7ea483f710>"
      ]
     },
     "metadata": {},
     "output_type": "display_data"
    },
    {
     "data": {
      "text/plain": [
       "<matplotlib.figure.Figure at 0x7f7ea44c9fd0>"
      ]
     },
     "metadata": {},
     "output_type": "display_data"
    },
    {
     "data": {
      "text/plain": [
       "<matplotlib.figure.Figure at 0x7f7e9bc99790>"
      ]
     },
     "metadata": {},
     "output_type": "display_data"
    },
    {
     "data": {
      "text/plain": [
       "<matplotlib.figure.Figure at 0x7f7ea59c0390>"
      ]
     },
     "metadata": {},
     "output_type": "display_data"
    },
    {
     "data": {
      "text/plain": [
       "<matplotlib.figure.Figure at 0x7f7ea43cead0>"
      ]
     },
     "metadata": {},
     "output_type": "display_data"
    },
    {
     "data": {
      "text/plain": [
       "<matplotlib.figure.Figure at 0x7f7ea483f510>"
      ]
     },
     "metadata": {},
     "output_type": "display_data"
    },
    {
     "data": {
      "text/plain": [
       "<matplotlib.figure.Figure at 0x7f7ea4594290>"
      ]
     },
     "metadata": {},
     "output_type": "display_data"
    },
    {
     "data": {
      "text/plain": [
       "<matplotlib.figure.Figure at 0x7f7ea50d0d90>"
      ]
     },
     "metadata": {},
     "output_type": "display_data"
    },
    {
     "data": {
      "text/plain": [
       "<matplotlib.figure.Figure at 0x7f7ea43ced10>"
      ]
     },
     "metadata": {},
     "output_type": "display_data"
    },
    {
     "data": {
      "text/plain": [
       "<matplotlib.figure.Figure at 0x7f7ea46fe5d0>"
      ]
     },
     "metadata": {},
     "output_type": "display_data"
    },
    {
     "data": {
      "text/plain": [
       "<matplotlib.figure.Figure at 0x7f7ea444c6d0>"
      ]
     },
     "metadata": {},
     "output_type": "display_data"
    },
    {
     "data": {
      "text/plain": [
       "<matplotlib.figure.Figure at 0x7f7ea4488a50>"
      ]
     },
     "metadata": {},
     "output_type": "display_data"
    },
    {
     "data": {
      "text/plain": [
       "<matplotlib.figure.Figure at 0x7f7ea52fef50>"
      ]
     },
     "metadata": {},
     "output_type": "display_data"
    },
    {
     "data": {
      "text/plain": [
       "<matplotlib.figure.Figure at 0x7f7ea448c790>"
      ]
     },
     "metadata": {},
     "output_type": "display_data"
    },
    {
     "data": {
      "text/plain": [
       "<matplotlib.figure.Figure at 0x7f7ea44e8e50>"
      ]
     },
     "metadata": {},
     "output_type": "display_data"
    },
    {
     "data": {
      "text/plain": [
       "<matplotlib.figure.Figure at 0x7f7ea52fed90>"
      ]
     },
     "metadata": {},
     "output_type": "display_data"
    },
    {
     "data": {
      "text/plain": [
       "<matplotlib.figure.Figure at 0x7f7ea44e8850>"
      ]
     },
     "metadata": {},
     "output_type": "display_data"
    },
    {
     "data": {
      "text/plain": [
       "<matplotlib.figure.Figure at 0x7f7ea4594bd0>"
      ]
     },
     "metadata": {},
     "output_type": "display_data"
    },
    {
     "data": {
      "text/plain": [
       "<matplotlib.figure.Figure at 0x7f7ea4488910>"
      ]
     },
     "metadata": {},
     "output_type": "display_data"
    },
    {
     "data": {
      "text/plain": [
       "<matplotlib.figure.Figure at 0x7f7ea4639650>"
      ]
     },
     "metadata": {},
     "output_type": "display_data"
    },
    {
     "data": {
      "text/plain": [
       "<matplotlib.figure.Figure at 0x7f7ea4610150>"
      ]
     },
     "metadata": {},
     "output_type": "display_data"
    },
    {
     "data": {
      "text/plain": [
       "<matplotlib.figure.Figure at 0x7f7ea4551110>"
      ]
     },
     "metadata": {},
     "output_type": "display_data"
    },
    {
     "data": {
      "text/plain": [
       "<matplotlib.figure.Figure at 0x7f7ea4610ed0>"
      ]
     },
     "metadata": {},
     "output_type": "display_data"
    },
    {
     "data": {
      "text/plain": [
       "<matplotlib.figure.Figure at 0x7f7ea43e7b10>"
      ]
     },
     "metadata": {},
     "output_type": "display_data"
    },
    {
     "data": {
      "text/plain": [
       "<matplotlib.figure.Figure at 0x7f7ea4639d10>"
      ]
     },
     "metadata": {},
     "output_type": "display_data"
    },
    {
     "data": {
      "text/plain": [
       "<matplotlib.figure.Figure at 0x7f7ea43e7a90>"
      ]
     },
     "metadata": {},
     "output_type": "display_data"
    },
    {
     "data": {
      "text/plain": [
       "<matplotlib.figure.Figure at 0x7f7ea4121d10>"
      ]
     },
     "metadata": {},
     "output_type": "display_data"
    },
    {
     "data": {
      "text/plain": [
       "<matplotlib.figure.Figure at 0x7f7ea43ce3d0>"
      ]
     },
     "metadata": {},
     "output_type": "display_data"
    },
    {
     "data": {
      "text/plain": [
       "<matplotlib.figure.Figure at 0x7f7ea4639490>"
      ]
     },
     "metadata": {},
     "output_type": "display_data"
    },
    {
     "data": {
      "text/plain": [
       "<matplotlib.figure.Figure at 0x7f7ea456aa10>"
      ]
     },
     "metadata": {},
     "output_type": "display_data"
    },
    {
     "data": {
      "text/plain": [
       "<matplotlib.figure.Figure at 0x7f7ea43e7890>"
      ]
     },
     "metadata": {},
     "output_type": "display_data"
    },
    {
     "data": {
      "text/plain": [
       "<matplotlib.figure.Figure at 0x7f7ea45510d0>"
      ]
     },
     "metadata": {},
     "output_type": "display_data"
    },
    {
     "data": {
      "text/plain": [
       "<matplotlib.figure.Figure at 0x7f7ea4594c10>"
      ]
     },
     "metadata": {},
     "output_type": "display_data"
    },
    {
     "data": {
      "text/plain": [
       "<matplotlib.figure.Figure at 0x7f7ea4551850>"
      ]
     },
     "metadata": {},
     "output_type": "display_data"
    },
    {
     "data": {
      "text/plain": [
       "<matplotlib.figure.Figure at 0x7f7ea46108d0>"
      ]
     },
     "metadata": {},
     "output_type": "display_data"
    },
    {
     "data": {
      "text/plain": [
       "<matplotlib.figure.Figure at 0x7f7ea59c0850>"
      ]
     },
     "metadata": {},
     "output_type": "display_data"
    },
    {
     "data": {
      "text/plain": [
       "<matplotlib.figure.Figure at 0x7f7ea4639e10>"
      ]
     },
     "metadata": {},
     "output_type": "display_data"
    },
    {
     "data": {
      "text/plain": [
       "<matplotlib.figure.Figure at 0x7f7ea59aa7d0>"
      ]
     },
     "metadata": {},
     "output_type": "display_data"
    },
    {
     "data": {
      "text/plain": [
       "<matplotlib.figure.Figure at 0x7f7ea444ca10>"
      ]
     },
     "metadata": {},
     "output_type": "display_data"
    },
    {
     "data": {
      "text/plain": [
       "<matplotlib.figure.Figure at 0x7f7ea5bab250>"
      ]
     },
     "metadata": {},
     "output_type": "display_data"
    },
    {
     "data": {
      "text/plain": [
       "<matplotlib.figure.Figure at 0x7f7ea459b090>"
      ]
     },
     "metadata": {},
     "output_type": "display_data"
    },
    {
     "data": {
      "text/plain": [
       "<matplotlib.figure.Figure at 0x7f7ea43e7210>"
      ]
     },
     "metadata": {},
     "output_type": "display_data"
    },
    {
     "data": {
      "text/plain": [
       "<matplotlib.figure.Figure at 0x7f7ea51988d0>"
      ]
     },
     "metadata": {},
     "output_type": "display_data"
    },
    {
     "data": {
      "text/plain": [
       "<matplotlib.figure.Figure at 0x7f7ea4551cd0>"
      ]
     },
     "metadata": {},
     "output_type": "display_data"
    },
    {
     "data": {
      "text/plain": [
       "<matplotlib.figure.Figure at 0x7f7ea5c31dd0>"
      ]
     },
     "metadata": {},
     "output_type": "display_data"
    },
    {
     "data": {
      "text/plain": [
       "<matplotlib.figure.Figure at 0x7f7ea4fc0190>"
      ]
     },
     "metadata": {},
     "output_type": "display_data"
    },
    {
     "data": {
      "text/plain": [
       "<matplotlib.figure.Figure at 0x7f7ea59aa2d0>"
      ]
     },
     "metadata": {},
     "output_type": "display_data"
    },
    {
     "data": {
      "text/plain": [
       "<matplotlib.figure.Figure at 0x7f7ea50a4e10>"
      ]
     },
     "metadata": {},
     "output_type": "display_data"
    },
    {
     "data": {
      "text/plain": [
       "<matplotlib.figure.Figure at 0x7f7ea5005d90>"
      ]
     },
     "metadata": {},
     "output_type": "display_data"
    },
    {
     "data": {
      "text/plain": [
       "<matplotlib.figure.Figure at 0x7f7ea5c31fd0>"
      ]
     },
     "metadata": {},
     "output_type": "display_data"
    },
    {
     "data": {
      "text/plain": [
       "<matplotlib.figure.Figure at 0x7f7ea45056d0>"
      ]
     },
     "metadata": {},
     "output_type": "display_data"
    },
    {
     "data": {
      "text/plain": [
       "<matplotlib.figure.Figure at 0x7f7ea5c09150>"
      ]
     },
     "metadata": {},
     "output_type": "display_data"
    },
    {
     "data": {
      "text/plain": [
       "<matplotlib.figure.Figure at 0x7f7ea5068d50>"
      ]
     },
     "metadata": {},
     "output_type": "display_data"
    },
    {
     "data": {
      "text/plain": [
       "<matplotlib.figure.Figure at 0x7f7ea45abdd0>"
      ]
     },
     "metadata": {},
     "output_type": "display_data"
    },
    {
     "data": {
      "text/plain": [
       "<matplotlib.figure.Figure at 0x7f7ea4fe7f90>"
      ]
     },
     "metadata": {},
     "output_type": "display_data"
    },
    {
     "data": {
      "text/plain": [
       "<matplotlib.figure.Figure at 0x7f7ea43cee50>"
      ]
     },
     "metadata": {},
     "output_type": "display_data"
    },
    {
     "data": {
      "text/plain": [
       "<matplotlib.figure.Figure at 0x7f7ea5301890>"
      ]
     },
     "metadata": {},
     "output_type": "display_data"
    },
    {
     "data": {
      "text/plain": [
       "<matplotlib.figure.Figure at 0x7f7ea5005750>"
      ]
     },
     "metadata": {},
     "output_type": "display_data"
    },
    {
     "data": {
      "text/plain": [
       "<matplotlib.figure.Figure at 0x7f7ea5301a10>"
      ]
     },
     "metadata": {},
     "output_type": "display_data"
    },
    {
     "data": {
      "text/plain": [
       "<matplotlib.figure.Figure at 0x7f7ea4f1a150>"
      ]
     },
     "metadata": {},
     "output_type": "display_data"
    },
    {
     "data": {
      "text/plain": [
       "<matplotlib.figure.Figure at 0x7f7ea4f1a5d0>"
      ]
     },
     "metadata": {},
     "output_type": "display_data"
    },
    {
     "data": {
      "text/plain": [
       "<matplotlib.figure.Figure at 0x7f7ea4f31b50>"
      ]
     },
     "metadata": {},
     "output_type": "display_data"
    },
    {
     "data": {
      "text/plain": [
       "<matplotlib.figure.Figure at 0x7f7ea4f1aa10>"
      ]
     },
     "metadata": {},
     "output_type": "display_data"
    },
    {
     "data": {
      "text/plain": [
       "<matplotlib.figure.Figure at 0x7f7ea4f722d0>"
      ]
     },
     "metadata": {},
     "output_type": "display_data"
    },
    {
     "data": {
      "text/plain": [
       "<matplotlib.figure.Figure at 0x7f7ea4ec46d0>"
      ]
     },
     "metadata": {},
     "output_type": "display_data"
    },
    {
     "data": {
      "text/plain": [
       "<matplotlib.figure.Figure at 0x7f7ea4f31ed0>"
      ]
     },
     "metadata": {},
     "output_type": "display_data"
    },
    {
     "data": {
      "text/plain": [
       "<matplotlib.figure.Figure at 0x7f7ea5068b90>"
      ]
     },
     "metadata": {},
     "output_type": "display_data"
    },
    {
     "data": {
      "text/plain": [
       "<matplotlib.figure.Figure at 0x7f7ea4fc0fd0>"
      ]
     },
     "metadata": {},
     "output_type": "display_data"
    },
    {
     "data": {
      "text/plain": [
       "<matplotlib.figure.Figure at 0x7f7ea4ee7050>"
      ]
     },
     "metadata": {},
     "output_type": "display_data"
    },
    {
     "data": {
      "text/plain": [
       "<matplotlib.figure.Figure at 0x7f7ea52c8e90>"
      ]
     },
     "metadata": {},
     "output_type": "display_data"
    },
    {
     "data": {
      "text/plain": [
       "<matplotlib.figure.Figure at 0x7f7ea4fe7c10>"
      ]
     },
     "metadata": {},
     "output_type": "display_data"
    },
    {
     "data": {
      "text/plain": [
       "<matplotlib.figure.Figure at 0x7f7ea4ea0690>"
      ]
     },
     "metadata": {},
     "output_type": "display_data"
    },
    {
     "data": {
      "text/plain": [
       "<matplotlib.figure.Figure at 0x7f7ea53014d0>"
      ]
     },
     "metadata": {},
     "output_type": "display_data"
    },
    {
     "data": {
      "text/plain": [
       "<matplotlib.figure.Figure at 0x7f7ea4ec4c10>"
      ]
     },
     "metadata": {},
     "output_type": "display_data"
    },
    {
     "data": {
      "text/plain": [
       "<matplotlib.figure.Figure at 0x7f7ea4ee7290>"
      ]
     },
     "metadata": {},
     "output_type": "display_data"
    },
    {
     "data": {
      "text/plain": [
       "<matplotlib.figure.Figure at 0x7f7ea4eaded0>"
      ]
     },
     "metadata": {},
     "output_type": "display_data"
    },
    {
     "data": {
      "text/plain": [
       "<matplotlib.figure.Figure at 0x7f7ea50a4bd0>"
      ]
     },
     "metadata": {},
     "output_type": "display_data"
    },
    {
     "data": {
      "text/plain": [
       "<matplotlib.figure.Figure at 0x7f7ea4ef0790>"
      ]
     },
     "metadata": {},
     "output_type": "display_data"
    },
    {
     "data": {
      "text/plain": [
       "<matplotlib.figure.Figure at 0x7f7ea4ef03d0>"
      ]
     },
     "metadata": {},
     "output_type": "display_data"
    },
    {
     "data": {
      "text/plain": [
       "<matplotlib.figure.Figure at 0x7f7ea4ee7610>"
      ]
     },
     "metadata": {},
     "output_type": "display_data"
    },
    {
     "data": {
      "text/plain": [
       "<matplotlib.figure.Figure at 0x7f7ea4e43050>"
      ]
     },
     "metadata": {},
     "output_type": "display_data"
    },
    {
     "data": {
      "text/plain": [
       "<matplotlib.figure.Figure at 0x7f7ea4ef0d10>"
      ]
     },
     "metadata": {},
     "output_type": "display_data"
    },
    {
     "data": {
      "text/plain": [
       "<matplotlib.figure.Figure at 0x7f7ea4dfd950>"
      ]
     },
     "metadata": {},
     "output_type": "display_data"
    },
    {
     "data": {
      "text/plain": [
       "<matplotlib.figure.Figure at 0x7f7ea4ec4190>"
      ]
     },
     "metadata": {},
     "output_type": "display_data"
    },
    {
     "data": {
      "text/plain": [
       "<matplotlib.figure.Figure at 0x7f7ea52d6b90>"
      ]
     },
     "metadata": {},
     "output_type": "display_data"
    },
    {
     "data": {
      "text/plain": [
       "<matplotlib.figure.Figure at 0x7f7ea4e43750>"
      ]
     },
     "metadata": {},
     "output_type": "display_data"
    },
    {
     "data": {
      "text/plain": [
       "<matplotlib.figure.Figure at 0x7f7ea4ed0890>"
      ]
     },
     "metadata": {},
     "output_type": "display_data"
    },
    {
     "data": {
      "text/plain": [
       "<matplotlib.figure.Figure at 0x7f7ea52df650>"
      ]
     },
     "metadata": {},
     "output_type": "display_data"
    },
    {
     "data": {
      "text/plain": [
       "<matplotlib.figure.Figure at 0x7f7ea52df110>"
      ]
     },
     "metadata": {},
     "output_type": "display_data"
    },
    {
     "data": {
      "text/plain": [
       "<matplotlib.figure.Figure at 0x7f7ea4e2fbd0>"
      ]
     },
     "metadata": {},
     "output_type": "display_data"
    },
    {
     "data": {
      "text/plain": [
       "<matplotlib.figure.Figure at 0x7f7ea52d6b10>"
      ]
     },
     "metadata": {},
     "output_type": "display_data"
    },
    {
     "data": {
      "text/plain": [
       "<matplotlib.figure.Figure at 0x7f7ea52dfa10>"
      ]
     },
     "metadata": {},
     "output_type": "display_data"
    },
    {
     "data": {
      "text/plain": [
       "<matplotlib.figure.Figure at 0x7f7ea5301c50>"
      ]
     },
     "metadata": {},
     "output_type": "display_data"
    },
    {
     "data": {
      "text/plain": [
       "<matplotlib.figure.Figure at 0x7f7ea4e0e410>"
      ]
     },
     "metadata": {},
     "output_type": "display_data"
    },
    {
     "data": {
      "text/plain": [
       "<matplotlib.figure.Figure at 0x7f7ea4e0e250>"
      ]
     },
     "metadata": {},
     "output_type": "display_data"
    },
    {
     "data": {
      "image/png": "[encoded data removed]",
      "text/plain": [
       "<matplotlib.figure.Figure at 0x7f7ea4dfd910>"
      ]
     },
     "metadata": {},
     "output_type": "display_data"
    }
   ],
   "source": [
    "#UMN\n",
    "\n",
    "#Changes:\n",
    "# N = 10\n",
    "# resize(::8,::8)\n",
    "\n",
    "# Coding\n",
    "# node=1\n",
    "# saddle=2\n",
    "# star=3\n",
    "# improper=4\n",
    "# center=5\n",
    "# spiral=6\n",
    "\n",
    "\n",
    "\n",
    "# img_path = \"/home/pranav/Downloads/RnD/training/image_02/0002_cross/%1d.png\"\n",
    "img_path = \"/home/pranav/Downloads/RnD/training/UMN/Crowd-Activity-All .avi\"\n",
    "\n",
    "\n",
    "\n",
    "noise_mean = 0.05\n",
    "start_frame = 52*30\n",
    "anomaly_val, phase_map , flow_ret, clip, anom_list = FB_flow(img_path,noise_mean,start_frame)\n",
    "print anomaly_val\n",
    "print '************************Phase_map************************', type(phase_map)\n",
    "plt.imshow(phase_map.T)\n",
    "plt.colorbar()\n",
    "plt.savefig('/home/pranav/Downloads/RnD/training/UMN/phase_1_th.png', bbox_inches='tight')\n",
    "print '****************************CLIP*************************'\n",
    "print clip\n",
    "print anom_list"
   ]
  },
  {
   "cell_type": "code",
   "execution_count": 18,
   "metadata": {},
   "outputs": [
    {
     "name": "stdout",
     "output_type": "stream",
     "text": [
      "20\n",
      "20\n"
     ]
    },
    {
     "data": {
      "image/png": "[encoded data removed]",
      "text/plain": [
       "<matplotlib.figure.Figure at 0x7fc421016750>"
      ]
     },
     "metadata": {},
     "output_type": "display_data"
    }
   ],
   "source": [
    "flow_sub = resized_flow(flow_ret)\n",
    "# flow_sub = flow_sub*0 + 0.0\n",
    "# flow_sub[:,:,1] +=1\n",
    "flow_x = np.shape(flow_sub)[0]\n",
    "flow_y = np.shape(flow_sub)[1]\n",
    "print flow_x\n",
    "print flow_y\n",
    "fig = plt.figure(figsize=(15,10))\n",
    "for x in range(0,flow_x-1):\n",
    "    for y in range(0,flow_y-1):\n",
    "        plt.plot([x,x+flow_sub[x,y,0]/1],[y,y+flow_sub[x,y,1]/1],'-')\n",
    "        \n",
    "# plt.plot(centroid_x,centroid_y,'o',label='Predicted Critical Point')\n",
    "# plt.legend()\n",
    "# plt.title('Multiple Critical Points')\n",
    "plt.gca().invert_yaxis()"
   ]
  },
  {
   "cell_type": "code",
   "execution_count": 56,
   "metadata": {},
   "outputs": [],
   "source": [
    "np.save('anom1_s1_np.npy', anom_list)\n",
    "\n",
    "with open('anom1_s2.txt', 'w') as f:\n",
    "    for item in anom_list:\n",
    "        f.write(\"%s\\n\" % item)"
   ]
  },
  {
   "cell_type": "code",
   "execution_count": 25,
   "metadata": {},
   "outputs": [
    {
     "name": "stdout",
     "output_type": "stream",
     "text": [
      "[2. 3. 4.]\n"
     ]
    },
    {
     "data": {
      "image/png": "[encoded data removed]",
      "text/plain": [
       "<matplotlib.figure.Figure at 0x7f649415dcd0>"
      ]
     },
     "metadata": {},
     "output_type": "display_data"
    }
   ],
   "source": [
    "# Coding\n",
    "# node=1\n",
    "# saddle=2\n",
    "# star=3\n",
    "# improper=4\n",
    "# center=5\n",
    "# spiral=6\n",
    "plt.imshow(phase_map.T)\n",
    "plt.colorbar()\n",
    "print np.unique(phase_map)\n",
    "# plt.savefig('/home/pranav/Downloads/RnD/training/UMN/phase_43_th.png', bbox_inches='tight')\n",
    "# print phase_map"
   ]
  },
  {
   "cell_type": "code",
   "execution_count": 116,
   "metadata": {},
   "outputs": [
    {
     "name": "stdout",
     "output_type": "stream",
     "text": [
      "0.6754819\n"
     ]
    }
   ],
   "source": [
    "print np.max(flow_sub)"
   ]
  },
  {
   "cell_type": "markdown",
   "metadata": {},
   "source": [
    "#### Obtain Dominant(Averaged) Flow"
   ]
  },
  {
   "cell_type": "code",
   "execution_count": 19,
   "metadata": {},
   "outputs": [],
   "source": [
    "#####################################################################\n",
    "\n",
    "# Example : perform live visualization of optic flow from a video file\n",
    "# specified on the command line (e.g. python FILE.py video_file) or from\n",
    "# an attached web camera\n",
    "\n",
    "# Author : Toby Breckon, toby.breckon@durham.ac.uk\n",
    "\n",
    "# Copyright (c) 2017 School of Engineering & Computing Science,\n",
    "#                    Durham University, UK\n",
    "# License : LGPL - http://www.gnu.org/licenses/lgpl.html\n",
    "\n",
    "#####################################################################\n",
    "\n",
    "import cv2\n",
    "import sys\n",
    "import numpy as np\n",
    "#np.set_printoptions(threshold=np.nan)\n",
    "#####################################################################\n",
    "\n",
    "\n",
    "\n",
    "#####################################################################\n",
    "\n",
    "# draw optic flow visualization on image using a given step size for\n",
    "# the line glyphs that show the flow vectors on the image\n",
    "\n",
    "def draw_flow(img, flow, step=4):\n",
    "    h, w = img.shape[:2]\n",
    "    #print img.shape[:2]\n",
    "    y, x = np.mgrid[step/2:h:step, step/2:w:step].reshape(2,-1).astype(int)\n",
    "    #print np.shape(flow), np.shape(x), step\n",
    "    fx, fy = flow[y,x].T\n",
    "#     print np.shape(fy)\n",
    "    lines = np.vstack([x, y, x+fx, y+fy]).T.reshape(-1, 2, 2)\n",
    "    lines = np.int32(lines + 0.5)\n",
    "    #print lines[0][0][0]\n",
    "#     print (np.shape(fx),np.shape(fy))\n",
    "\n",
    "#     vis = cv2.cvtColor(img, cv2.COLOR_GRAY2BGR)\n",
    "    vis = img\n",
    "    cv2.polylines(vis, lines, 0, (0, 255, 0))\n",
    "    for (x1, y1), (x2, y2) in lines:\n",
    "        cv2.circle(vis, (x1, y1), 1, (0, 255, 0), -1)\n",
    "#         cv2.circle(vis, (240,320),5,(255,0,0),-1)\n",
    "    return vis\n",
    "#     cv2.circle(vis, (200,80),1,(255,0,0),-1)\n",
    "\n",
    "#####################################################################\n",
    "\n",
    "\n",
    "\n",
    "# define video capture object\n",
    "\n",
    "# cap = cv2.VideoCapture();\n",
    "# cap = cv2.VideoCapture(\"/home/pranav/Downloads/RnD/manipulator_data/18/images/%1d.jpg\")\n",
    "\n",
    "\n",
    "def FB_flow(image_path,noise_val,start_f):\n",
    "    N = 10\n",
    "    anom_list = []\n",
    "    anomaly_detected = 0\n",
    "    tot_frame = 10\n",
    "    keep_processing = True;\n",
    "    camera_to_use = 0; # 0 if you have one camera, 1 or > 1 otherwise\n",
    "    clip=0\n",
    "    prev_anom = 0\n",
    "\n",
    "\n",
    "    # define display window name\n",
    "\n",
    "\n",
    "    windowName = \"Dense Optic Flow\"; # window name\n",
    "    averageName = 'average'\n",
    "\n",
    "    # if command line arguments are provided try to read video_name\n",
    "    # otherwise default to capture from attached H/W camera\n",
    "    frame_count = 0\n",
    "    frame_avg_count = 0\n",
    "\n",
    "\n",
    "    if True :#(((len(sys.argv) == 2) and (cap.open(str(sys.argv[1]))))\n",
    "    #     or (cap.open(camera_to_use))):\n",
    "    #     \n",
    "\n",
    "\n",
    "    #     cap = cv2.VideoCapture(\"/home/pranav/Downloads/RnD/manipulator_data/16/images/%1d.jpg\")\n",
    "    #     cap = cv2.VideoCapture(\"/home/pranav/Downloads/RnD/UCSD_Anomaly_Dataset.v1p2/UCSDped1/Test/Test002/%3d.tif\")\n",
    "    #     cap = cv2.VideoCapture(\"/home/pranav/Downloads/RnD/training/image_02/0020_overtake/%1d.png\")\n",
    "    #     cap = cv2.VideoCapture(\"/home/pranav/Downloads/RnD/training/QMUL/qmul_junction.avi\")\n",
    "#         cap = cv2.VideoCapture(\"/home/pranav/Downloads/RnD/training/image_02/0015_ppl_cross/%1d.png\")\n",
    "        cap = cv2.VideoCapture(image_path)\n",
    "        f = start_f\n",
    "        cap.set(1, f)\n",
    "    #     cap.open('0020.avi')\n",
    "        # create window by name (as resizable)\n",
    "\n",
    "        cv2.namedWindow(windowName, cv2.WINDOW_NORMAL);\n",
    "\n",
    "        # if video file successfully open then read an initial frame from video\n",
    "\n",
    "        if (cap.isOpened):\n",
    "            ret, frame = cap.read();\n",
    "\n",
    "        # convert image to grayscale to be previous frame\n",
    "        prevgray = cv2.cvtColor(frame, cv2.COLOR_BGR2GRAY)\n",
    "\n",
    "        while (keep_processing):\n",
    "\n",
    "            # if video file successfully open then read frame from video\n",
    "\n",
    "            if (cap.isOpened):\n",
    "                ret, frame = cap.read();\n",
    "\n",
    "                # when we reach the end of the video (file) exit cleanly\n",
    "\n",
    "                if (ret == 0):\n",
    "                    keep_processing = False;\n",
    "                    continue;\n",
    "\n",
    "            # convert image to grayscale\n",
    "\n",
    "            gray = cv2.cvtColor(frame, cv2.COLOR_BGR2GRAY)\n",
    "\n",
    "            # compute dense optic flow using technique of Farneback 2003\n",
    "            # parameters from example (OpenCV 3.2):\n",
    "            # https://github.com/opencv/opencv/blob/master/samples/python/opt_flow.py\n",
    "\n",
    "#             flow = cv2.calcOpticalFlowFarneback(prevgray, gray, None, 0.5, 3, 15, 3, 5, 1.2, 0)\n",
    "\n",
    "\n",
    "            frame_count+=1\n",
    "#             print frame_count\n",
    "#             curr_flow = flow\n",
    "\n",
    "\n",
    "\n",
    "            if frame_count ==1:\n",
    "                flow = cv2.calcOpticalFlowFarneback(prevgray, gray, None, 0.5, 3, 15, 3, 5, 1.2, 0)  \n",
    "                flow1= flow\n",
    "\n",
    "            elif frame_count%tot_frame == 0:\n",
    "                clip+=1\n",
    "                print '****************************CLIP***********************************=', clip\n",
    "                flow = cv2.calcOpticalFlowFarneback(prevgray, gray, None, 0.5, 3, 15, 3, 5, 1.2, 0)                     \n",
    "                flow1+=flow\n",
    "                flow=flow1/(tot_frame)\n",
    "                cv2.imshow(windowName, draw_flow(frame, flow1))\n",
    "                flow1 = flow1*0\n",
    "                avg_flow = resized_flow(flow)\n",
    "                phase_map, crit_map = scan_ph_crit(avg_flow,noise_val)\n",
    "#                 return anomaly_detected,phase_map, flow,clip, anom_list\n",
    "                if clip==1:\n",
    "                    phase_map_prev = phase_map\n",
    "                    prev_mean = np.mean(abs(flow))\n",
    "                    no_zero_mov_prev = np.count_nonzero(phase_map ==4)/ N*N\n",
    "#                     return anomaly_detected,phase_map, flow,clip,anom_list\n",
    "                else:\n",
    "                    \n",
    "                    ph_diff = phase_map_prev - phase_map\n",
    "                    curr_mean = np.mean(abs(flow))\n",
    "                    phase_map_prev = phase_map\n",
    "                    no_zero_mov = np.count_nonzero(phase_map ==4)/ N*N\n",
    "                    no_ph_diff = np.count_nonzero(ph_diff)/ (N*N)\n",
    "                    \n",
    "                    if (no_ph_diff>7 or   (curr_mean > 1.4*prev_mean and curr_mean>= prev_anom)): # and (abs(no_zero_mov_prev-no_zero_mov) > 2 )) or (no_ph_diff> 5 and (abs(no_zero_mov_prev-no_zero_mov) > 0)):\n",
    "                        anomaly_detected = 1 - anomaly_detected\n",
    "                        no_zero_mov_prev = no_zero_mov_prev\n",
    "                        prev_mean = prev_mean\n",
    "                        prev_anom = curr_mean\n",
    "                        \n",
    "                        print '************ANOMALY ANOMALY ANOMALY ANOMALY DETECTED**************=',clip\n",
    "                        anom_list.append(clip)\n",
    "\n",
    "                        key = cv2.waitKey() & 0xFF;\n",
    "                        if (key == ord('x')):\n",
    "                            cv2.destroyAllWindows()\n",
    "                            return anomaly_detected,phase_map, flow,clip, anom_list\n",
    "                    else:\n",
    "                        prev_mean = curr_mean\n",
    "                        prev_anom = 0\n",
    "\n",
    "                            \n",
    "#                         return anomaly_detected,phase_map, flow,clip\n",
    "                                \n",
    "            else:\n",
    "                flow = cv2.calcOpticalFlowFarneback(prevgray, gray, None, 0.5, 3, 15, 3, 5, 1.2, 0)  \n",
    "                flow1+=flow\n",
    "            \n",
    "#            if frame_count%(tot_frame*2) == tot_frame*1 :\n",
    "            \n",
    "#             flow = cv2.calcOpticalFlowFarneback(prevgray, gray, None, 0.5, 3, 15, 3, 5, 1.2, 0)\n",
    "#                 frame_avg_count =1\n",
    "#     #             seq_count = frame_count\n",
    "#                 flow1=flow\n",
    "#     #             frame_count+=1\n",
    "#     #             frame_count+=0\n",
    "#             elif frame_avg_count>0 and frame_avg_count <(tot_frame+1):\n",
    "#                 flow = cv2.calcOpticalFlowFarneback(prevgray, gray, None, 0.5, 3, 15, 3, 5, 1.2, 0)\n",
    "\n",
    "#                 frame_avg_count +=1\n",
    "#     #             frame_count+=1\n",
    "#                 flow1+=flow\n",
    "#                 if frame_avg_count==tot_frame:\n",
    "#                     flow=flow1/(tot_frame)\n",
    "# #                     frame_avg_count=0\n",
    "#                     cv2.imshow(windowName, draw_flow(frame, flow1))\n",
    "#                     avg_flow = resized_flow(flow)\n",
    "#                     phase_map, crit_map = scan_ph_crit(avg_flow)\n",
    "# #                     plt.imshow(phase_map)\n",
    "# #                     plt.imshow(crit_map)\n",
    "\n",
    "# #                     cv2.waitKey()\n",
    "#                     return anomaly_detected,phase_map, flow\n",
    "\n",
    "#                     flow1 = flow1*0\n",
    "\n",
    "#                 if frame_avg_count==tot_frame:\n",
    "#                     flow=flow1/(tot_frame/2)\n",
    "# #                     frame_avg_count=0\n",
    "#                     cv2.imshow(windowName, draw_flow(frame, flow1))\n",
    "#                     avg_flow = resized_flow(flow)\n",
    "#                     phase_crit_det(avg_flow)\n",
    "#                     cv2.waitKey()\n",
    "\n",
    "#                     cv2.destroyAllWindows()\n",
    "#                     keep_processing = False\n",
    "\n",
    "\n",
    "                    \n",
    "                    \n",
    "                    \n",
    "                    \n",
    "                    \n",
    "                    \n",
    "                    \n",
    "\n",
    "                    \n",
    "                    \n",
    "                    \n",
    "                    \n",
    "                    \n",
    "                    \n",
    "                    \n",
    "                    \n",
    "                    \n",
    "                    \n",
    "                    \n",
    "                    \n",
    "\n",
    "    #             flow1= flow\n",
    "\n",
    "\n",
    "            #print flow\n",
    "            prevgray = gray\n",
    "\n",
    "            # display image with optic flow overlay\n",
    "\n",
    "#             cv2.imshow(windowName, draw_flow(frame, flow))\n",
    "    #         prevgray = cv2.Circle(prevgray, (200,80), 1, (255,0,0), thickness=1, lineType=8, shift=0) \n",
    "    #         cv2.imshow(windowName, prevgray)\n",
    "\n",
    "\n",
    "            # start the event loop - essential\n",
    "\n",
    "            # cv2.waitKey() is a keyboard binding function (argument is the time in milliseconds).\n",
    "            # It waits for specified milliseconds for any keyboard event.\n",
    "            # If you press any key in that time, the program continues.\n",
    "            # If 0 is passed, it waits indefinitely for a key stroke.\n",
    "            # (bitwise and with 0xFF to extract least significant byte of multi-byte response)\n",
    "\n",
    "            key = cv2.waitKey(40) & 0xFF; # wait 40ms (i.e. 1000ms / 25 fps = 40 ms)\n",
    "\n",
    "            # It can also be set to detect specific key strokes by recording which key is pressed\n",
    "\n",
    "            # e.g. if user presses \"x\" then exit\n",
    "\n",
    "            if (key == ord('x')):\n",
    "                cv2.destroyAllWindows()\n",
    "                keep_processing = False;\n",
    "\n",
    "        # close all windows\n",
    "\n",
    "\n",
    "\n",
    "    else:\n",
    "        print(\"No video file specified or camera connected.\");\n",
    "\n",
    "    return anomaly_detected,phase_map, flow\n",
    "\n",
    "\n",
    "####################################################################################################\n",
    "    \n",
    "    \n",
    "    "
   ]
  },
  {
   "cell_type": "markdown",
   "metadata": {},
   "source": [
    "#### Resized Average Image"
   ]
  },
  {
   "cell_type": "code",
   "execution_count": 4,
   "metadata": {},
   "outputs": [],
   "source": [
    "########################## Get Resized Image #######################################################\n",
    "def resized_flow(flow):\n",
    "    \n",
    "#     print np.shape(flow)\n",
    "    h = np.shape(flow)[0]\n",
    "    w = np.shape(flow)[1]\n",
    "    step = 5\n",
    "    y, x = np.mgrid[step/2:h:step, step/2:w:step].reshape(2,-1).astype(int)\n",
    "#     print len(y),len(x)\n",
    "    #print np.shape(flow), np.shape(x), step\n",
    "    fx, fy = flow[y,x].T\n",
    "    flow_sub = flow[y,x]\n",
    "\n",
    "    # flow_sub =  flow[::25,::35,:]\n",
    "    # flow_sub =  flow[::17,::57,:] #works_1\n",
    "    # flow_sub =  flow[::3,::10,:] #nice_1\n",
    "    flow_sub =  flow[::8,::8,:]\n",
    "    X_dash = np.transpose(flow_sub, (1, 0, 2))\n",
    "#     print np.shape(fx)\n",
    "#     print np.shape(flow_sub)\n",
    "    # X_dash = flow_sub\n",
    "#     print np.shape(X_dash)\n",
    "    # plt.imshow(flow_sub)\n",
    "#     print 'Resizing, and returning', np.shape(X_dash)\n",
    "    return X_dash\n",
    "    \n"
   ]
  },
  {
   "cell_type": "markdown",
   "metadata": {},
   "source": [
    "#### Scan - Phase and Critical Point"
   ]
  },
  {
   "cell_type": "code",
   "execution_count": 5,
   "metadata": {},
   "outputs": [],
   "source": [
    "def scan_ph_crit(avg_flow,noise_m):\n",
    "#     print 'Entered Scanning'\n",
    "    node=1\n",
    "    saddle=2\n",
    "    star=3\n",
    "    improper=4\n",
    "    center=5\n",
    "    spiral=6\n",
    "\n",
    "    # root1 = A_eig[0]\n",
    "    # root2 = A_eig[1]\n",
    "    # l_1 = J[0,0]\n",
    "    # l_2 = J[1,1]\n",
    "    # imp = J[0,1]\n",
    "\n",
    "    dom_image = avg_flow\n",
    "    \n",
    "    domin_r_1 = []\n",
    "    domin_theta_1 =[]\n",
    "    flow_x = np.shape(dom_image)[0]\n",
    "    flow_y = np.shape(dom_image)[1]\n",
    "    w_size = 10\n",
    "\n",
    "    n_windows_x = flow_x/w_size\n",
    "    n_windows_y = flow_y/w_size\n",
    "    fit_map = np.zeros((flow_x,flow_y))\n",
    "\n",
    "    N=w_size\n",
    "\n",
    "    # from scipy.optimize import least_squares\n",
    "    fit = np.zeros((n_windows_x,n_windows_y))\n",
    "    x_zerolist = [] #np.zeros((2,2))\n",
    "    x_zerolist_all = []\n",
    "    \n",
    "    fixed_map = np.zeros((flow_x,flow_y))\n",
    "    wind_no = 0\n",
    "    import time\n",
    "    start = time.clock()\n",
    "    for xx in range(0,n_windows_x):\n",
    "        for yy in range(0,n_windows_y):\n",
    "            wind_no+=1\n",
    "            flow_man = dom_image[0+xx*w_size:w_size+xx*w_size,0+yy*w_size:w_size+yy*w_size,:] +0.00001\n",
    "            flow1 = flow_man\n",
    "#             print 'In the window number', wind_no, ' out of windows ',n_windows_x,',',n_windows_y,'...'\n",
    "            if (np.mean(abs(flow1))) < noise_m: # and np.sum(abs(flow1)) < 12.:\n",
    "                fit_map[ 0+xx*w_size:w_size+xx*w_size,0+yy*w_size:w_size+yy*w_size] = 4   \n",
    "            else:\n",
    "                \n",
    "\n",
    "                orient,clust_image = cluster_sample(flow1)\n",
    "\n",
    "                omega = fit_lines(flow1,orient,clust_image)\n",
    "\n",
    "                crit_init = [0,0]\n",
    "                crit_opt= scipy.optimize.minimize(crit_lms,crit_init,omega)\n",
    "                cp = crit_opt.x\n",
    "\n",
    "                phase_no = phase_class(cp,flow1)\n",
    "\n",
    "\n",
    "\n",
    "                #Assigning Phase-number  \n",
    "#                 if (np.mean(abs(flow1))) < 0.5: # and np.sum(abs(flow1)) < 12.:\n",
    "#                     fit_map[ 0+xx*w_size:w_size+xx*w_size,0+yy*w_size:w_size+yy*w_size] = 4   \n",
    "#                 else:\n",
    "                fit_map[ 0+xx*w_size:w_size+xx*w_size,0+yy*w_size:w_size+yy*w_size] = phase_no   \n",
    "\n",
    "\n",
    "                #Calculating Fitness(closeness between predicted and actual)\n",
    "    #             fit[xx,yy]=1 - sum_of_areas(res_1.x)/(w_size**2/2)\n",
    "                fit[xx,yy] = 1\n",
    "\n",
    "                #Assigning Critical Point\n",
    "    #             x_zero1 = (np.around(x_zero))\n",
    "                x_zero1 = cp\n",
    "\n",
    "\n",
    "                x_zero1 = x_zero1.astype(int)\n",
    "                if x_zero1[0]+xx*w_size>N*2 or x_zero1[0]+xx*w_size <0 or x_zero1[1]+yy*w_size> N*2 or x_zero1[1]+yy*w_size<0:\n",
    "        #             x_zero_1[0] = 0\n",
    "        #             x_zero1[1] = 0\n",
    "        #             fixed_map[x_zero1[0]+xx*11,x_zero1[1]+yy*11]= fit[xx,yy]\n",
    "                    x_zerolist_all.append(x_zero1)\n",
    "    #                 print phase\n",
    "    #                 pass\n",
    "                else:\n",
    "                    x_zerolist_all.append(x_zero1)\n",
    "                    x_zerolist.append(x_zero1)\n",
    "                    print phase,fit[xx,yy],x_zero1\n",
    "                    fixed_map[x_zero1[0]+xx*w_size,x_zero1[1]+yy*w_size]= fit[xx,yy]\n",
    "\n",
    "\n",
    "            # print np.shape(x_zero1)\n",
    "\n",
    "#     print time.clock()- start\n",
    "#     print 'Returning Scanned data, phase map, critical point map..'\n",
    "    return fit_map, fixed_map"
   ]
  },
  {
   "cell_type": "markdown",
   "metadata": {},
   "source": [
    "#### Orientation Image"
   ]
  },
  {
   "cell_type": "code",
   "execution_count": 6,
   "metadata": {},
   "outputs": [],
   "source": [
    "def orientation_image(flow1): \n",
    "    N =10\n",
    "    r_1 =np.zeros((N,N))\n",
    "    r_2 = np.zeros((N,N))\n",
    "    theta_1 = np.zeros((N,N))\n",
    "    theta_sin = np.zeros((N,N))\n",
    "    theta_cos = np.zeros((N,N))\n",
    "     \n",
    "    for i in range (0,N):\n",
    "        for j in range (0,N):\n",
    "            pos = np.array([i,j]).T\n",
    "            r_1[i,j] = np.sqrt(flow1[i][j][0]**2+flow1[i][j][1]**2)\n",
    "            theta_1 [i,j]= np.arctan(flow1[i][j][1]/flow1[i][j][0])\n",
    "            theta_sin[i,j] = (r_1[i,j]**2)*np.sin(2*theta_1[i,j])\n",
    "            theta_cos[i,j] = (r_1[i,j]**2)*np.cos(2*theta_1[i,j])\n",
    "    \n",
    "    return theta_1"
   ]
  },
  {
   "cell_type": "markdown",
   "metadata": {},
   "source": [
    "#### Clustering - Sampling"
   ]
  },
  {
   "cell_type": "code",
   "execution_count": 7,
   "metadata": {},
   "outputs": [],
   "source": [
    "def cluster_sample(flow_man):\n",
    "#     print 'Entered Clustering'\n",
    "    X_dash = flow_man\n",
    "    xx=yy=0\n",
    "    step_N = 10\n",
    "    X_dash_sect = X_dash[0+xx*step_N:step_N+xx*step_N,0+yy*step_N:step_N+yy*step_N,:] +0.00001\n",
    "    flow1=X_dash_sect\n",
    "    k = 0.17\n",
    "    orient = (orientation_image(flow1))\n",
    "    n= 3.14/(0.17/2)\n",
    "    orient = orient*180/3.14\n",
    "    orient =  (orient).astype(int)\n",
    "    # for x in orient:\n",
    "    #     x= [y+180 for y in x if y<0]\n",
    "    # [y+180 for y in orient[:,] if y<0]\n",
    "\n",
    "    for i in range(orient.shape[0]):\n",
    "        for j in range (orient.shape[1]):\n",
    "            if orient[i,j]<0:\n",
    "                orient[i,j]+=180\n",
    "    # orient = orient*3.14/180\n",
    "#     print np.min(orient)\n",
    "#     print np.max(orient)\n",
    "    clust_full =[]\n",
    "    clust_image = np.zeros((step_N,step_N))\n",
    "    for i in range (int(n)):\n",
    "        thet_start =  0.0 +i*3\n",
    "        thet_end = thet_start + 3\n",
    "    #     print  thet_start, thet_end\n",
    "    #     orient_loc_st = np.where(orient>70)\n",
    "    #     orient_loc_end = np.where(orient<80)\n",
    "        clust_section = []\n",
    "        for x in range(0,step_N):\n",
    "            for y in range(step_N):\n",
    "                if orient[x,y]>=thet_start and orient[x,y]<thet_end :\n",
    "                    clust_section.append((x,y))\n",
    "                    clust_image[x,y] = i\n",
    "        clust_full.append(clust_section)\n",
    "    #     x_points = set(orient_loc_st).intersection(orient_loc_end)\n",
    "    # print orient_loc_st[0]\n",
    "    # print orient_loc_end[0]\n",
    "    # print x_points\n",
    "    # print clust_section\n",
    "    \n",
    "#Uncomment for plots    \n",
    "#     plt.imshow(clust_image.T)\n",
    "#     plt.colorbar()\n",
    "#     print 'Leaving Clustering'\n",
    "    return orient, clust_image\n",
    "    \n",
    "    # plt.ylim(0,21)"
   ]
  },
  {
   "cell_type": "markdown",
   "metadata": {},
   "source": [
    "#### LMS"
   ]
  },
  {
   "cell_type": "code",
   "execution_count": 8,
   "metadata": {},
   "outputs": [],
   "source": [
    "def lms(para,x,y,zet):\n",
    "    return np.mean(np.square(np.cos(para[0])*x + np.sin(para[0])*y + (para[1]) ))\n",
    "#     return 1/2 *np.sum((np.square(np.cos(para[0])*x + np.sin(para[0])*y + (para[1]) )))\n",
    "#  return np.median(np.square(para[0]*x + para[1]*y + para[2])) # + 1*np.abs( np.square(para[0])+np.square(para[1])-1)))\n"
   ]
  },
  {
   "cell_type": "markdown",
   "metadata": {},
   "source": [
    "#### Line Fitting"
   ]
  },
  {
   "cell_type": "code",
   "execution_count": 9,
   "metadata": {},
   "outputs": [],
   "source": [
    "def fit_lines(flow,orient, clust_image):\n",
    "#     print 'In Line Fitting'\n",
    "    X_dash = flow\n",
    "    import time\n",
    "    start = time.clock()\n",
    "\n",
    "    np.set_printoptions(threshold=np.nan)\n",
    "    fig = plt.figure(figsize=(40,10))\n",
    "    xx=0\n",
    "    yy=0\n",
    "    step_N = 10\n",
    "    X_dash_sect = X_dash[0+xx*step_N:step_N+xx*step_N,0+yy*step_N:step_N+yy*step_N,:] +0.00001\n",
    "    flow1=X_dash_sect\n",
    "\n",
    "    orient_1 = orient*3.14/180\n",
    "\n",
    "    orient_1d = orient_1.flatten()\n",
    "#     print np.max(orient_1d)\n",
    "#     print orient_1d.shape\n",
    "    X_dash_1d = orient_1d\n",
    "\n",
    "\n",
    "    X_dash_2d = X_dash_1d.reshape(step_N,step_N)\n",
    "    X_dash_1d_sh = X_dash_1d.reshape(-1,1)\n",
    "#     print X_dash_1d_sh.shape\n",
    "\n",
    "    no_of_clust = 18\n",
    "\n",
    "    clust_pred = clust_image.flatten()\n",
    "\n",
    "    clust_pred_2d = clust_image\n",
    "\n",
    "    #Uncomment for plots\n",
    "#     plt.imshow(clust_pred_2d)\n",
    "#     plt.gca().invert_yaxis()\n",
    "#     plt.colorbar(fraction=0.025, pad=0.04)\n",
    "\n",
    "    # print clust_pred\n",
    "    clusts_uniq = np.unique(clust_pred)\n",
    "\n",
    "#     print len(clusts_uniq)\n",
    "    para = [0,0]\n",
    "    omega = [] \n",
    "    tans = []\n",
    "    mean_tans = []\n",
    "    e=[]\n",
    "    f=[]\n",
    "    mean_lms = []\n",
    "    for i,val in enumerate(clusts_uniq):\n",
    "    #     print i\n",
    "        clusts_loc = np.where(clust_pred_2d==val)\n",
    "        mean_tans.append(abs(np.mean((orient_1[clusts_loc]))))\n",
    "        check = (np.mean((orient_1[clusts_loc])))\n",
    "    #     print 'c',check\n",
    "        zeta_clust = np.tan(np.mean((orient_1[clusts_loc])))\n",
    "    #     print zeta_clust\n",
    "    #     tans.append(np.tan(orient[clusts_loc]))\n",
    "    #     print clusts_loc\n",
    "    #     print clusts_loc[0]\n",
    "        x_points = clusts_loc[0][np.newaxis].T\n",
    "        y_points = clusts_loc[1][np.newaxis]\n",
    "\n",
    "    #     lms_val = lms(para,x_points,y_points.T) \n",
    "    #     print lms_val\n",
    "    #     lms_opt = scipy.optimize.least_squares(lms,para,loss='soft_l1', f_scale=0.1,args=(x_points, y_points.T,zeta_clust))\n",
    "        lms_opt = scipy.optimize.minimize(lms,para,args=(x_points, y_points.T,zeta_clust))\n",
    "        mean_lms.append(lms_opt.fun)\n",
    "\n",
    "\n",
    "    #     print lms_opt.fun\n",
    "    #     print lms_opt.x\n",
    "        p= lms_opt.x \n",
    "    #     print (p)\n",
    "    #     e.append(p[1])\n",
    "    #     f.append(p[2])\n",
    "    #     omega.append(lms_opt.x)\n",
    "        ones_ar = np.ones((x_points.shape[0],1))\n",
    "        x_points_ar = np.hstack((x_points,ones_ar))\n",
    "    #     p = np.linalg.pinv(x_points_ar).dot(y_points.T)\n",
    "        if  len(orient_1[clusts_loc])>1 : #and (lms_opt.fun) < np.std(mean_lms) +2 : #and ((check>0.3 and check<1.3) or (check>1.8 and check<2.8) or (check>3.4 and check<4.5) or (check > 4.9 and check<6.1)): \n",
    "            omega.append([np.cos(p[0]),np.sin(p[0]),p[1]])\n",
    "    #         print 'orient', (orient_1[clusts_loc])\n",
    "            tans.append((orient_1[clusts_loc]))\n",
    "            mean_lms.append(lms_opt.fun)\n",
    "    #         e.append(p[1])\n",
    "    #         f.append(p[2])\n",
    "\n",
    "    #         print 'mean', lms_opt.fun\n",
    "    #         print 'alpha',np.cos(p[0]),'beta', np.sin(p[0])\n",
    "    #         print 'tans', np.mean(orient_1[clusts_loc])\n",
    "    #         print 'line'\n",
    "\n",
    "    #     print omega\n",
    "    #     p= lms_opt.x \n",
    "    #     print p[0],p[1] \n",
    "    #     print x_points.shape, y_points.shape, x_points_ar.shape \n",
    "            x_plot = np.arange(0,30)\n",
    "#Uncomment For Plots\n",
    "#             plt.plot(x_points, -(np.cos(p[0])*x_points + (p[1]) )/np.sin(p[0]))\n",
    "\n",
    "\n",
    "#     print time.clock() - start\n",
    "#     print 'Exiting Line Fitting'\n",
    "    return omega"
   ]
  },
  {
   "cell_type": "markdown",
   "metadata": {},
   "source": [
    "#### Critical Point -LMS"
   ]
  },
  {
   "cell_type": "code",
   "execution_count": 10,
   "metadata": {},
   "outputs": [],
   "source": [
    "def crit_lms(crit_point,omega):\n",
    "    omega_1= np.array(omega).reshape(-1,3)\n",
    "    crit_point_1=np.array([crit_point[0],crit_point[1],1])\n",
    "    mse =  np.square(omega_1.dot(crit_point_1)/np.sqrt((omega_1[:,0]*omega_1[:,0] + omega_1[:,1]*omega_1[:,1])))\n",
    "    med_val =  np.mean(np.square(omega_1.dot(crit_point_1)/np.sqrt(list(omega_1[:,0]*omega_1[:,0] + omega_1[:,1]*omega_1[:,1]))))\n",
    "#     print mse\n",
    "    \n",
    "    return med_val\n"
   ]
  },
  {
   "cell_type": "markdown",
   "metadata": {},
   "source": [
    "#### Phase_Classification"
   ]
  },
  {
   "cell_type": "code",
   "execution_count": 11,
   "metadata": {},
   "outputs": [],
   "source": [
    "def phase_class(critical_pt,flow):\n",
    "#     print 'Entering Phase for window'\n",
    "    X_dash = flow\n",
    "    cp = critical_pt\n",
    "    \n",
    "    N =10\n",
    "    flow1 = X_dash[:,:,:]\n",
    "    cp = cp.astype(int)\n",
    "    x_pos, y_pos = np.mgrid[-cp[0]:-cp[0]+N,-cp[1]:-cp[1]+N]\n",
    "    # print \n",
    "    x_i = x_pos.flatten()[np.newaxis].T\n",
    "    # print x_i\n",
    "    y_i = y_pos.flatten()[np.newaxis].T\n",
    "    # print y_i\n",
    "    pos_ar = np.hstack((x_i,y_i))\n",
    "    # print np.shape(pos_ar)\n",
    "\n",
    "\n",
    "    flow_dx_orig = flow1[:,:,0].reshape(-1,)\n",
    "    flow_dy_orig = flow1[:,:,1].reshape(-1,)\n",
    "    # print np.shape(flow_dx_orig)\n",
    "    flow_dx_dy = np.vstack((flow_dx_orig,flow_dy_orig)).T\n",
    "#     print np.shape(pos_ar)\n",
    "#     print np.shape(flow_dx_dy)\n",
    "\n",
    "    import time\n",
    "    start = time.clock()\n",
    "    res_tot = np.linalg.lstsq(pos_ar, flow_dx_dy)\n",
    "#     print np.shape(res_tot)\n",
    "#     print res_tot[0]\n",
    "    eigval_pr, eigvec_pr = np.linalg.eig(res_tot[0])\n",
    "#     print 'Predicted Eigen Values:',eigval_pr\n",
    "#     print 'Time taken for classification:',time.clock() - start,'seconds'\n",
    "\n",
    "\n",
    "    x0 = np.array([[0.5],[0.5]])\n",
    "\n",
    "    # flow_pred_dx = pos_ar.dot(x0)\n",
    "    # print flow_pred_dx.shape\n",
    "    # dx_diff = abs(flow_pred_dx - flow_dx_orig)....\n",
    "    # print dx_diff.shape\n",
    "    # total_diff = np.sum(dx_diff)\n",
    "    # total_diff\n",
    "\n",
    "\n",
    "    import time\n",
    "    start = time.clock()\n",
    "\n",
    "\n",
    "    res_1 = lsq_linear(pos_ar, flow_dx_orig,lsmr_tol='auto') #, bounds=(lb, ub), lsmr_tol='auto')\n",
    "    # print res_1.x\n",
    "    a_up = res_1.x\n",
    "\n",
    "\n",
    "    res_2 = lsq_linear(pos_ar, flow_dy_orig,lsmr_tol='auto') #, bounds=(lb, ub), lsmr_tol='auto')\n",
    "    # print res_2.x\n",
    "    a_down = res_2.x\n",
    "\n",
    "\n",
    "    A_pred  = np.vstack((a_up,a_down))\n",
    "    eigval_pr, eigvec_pr = np.linalg.eig(A_pred)\n",
    "#     print 'Predicted Eigen Values:',eigval_pr\n",
    "\n",
    "\n",
    "#     print 'Time taken for classification:',time.clock() - start,'seconds'\n",
    "\n",
    "\n",
    "    #### Classification\n",
    "    m = Matrix(A_pred)\n",
    "    P, J = m.jordan_form()\n",
    "#     print 'Jordan'\n",
    "#     print J\n",
    "\n",
    "\n",
    "    # fit_map = np.zeros((22,22))\n",
    "\n",
    "    node=1\n",
    "    saddle=2\n",
    "    star=3\n",
    "    improper=4\n",
    "    center=5\n",
    "    spiral=6\n",
    "\n",
    "\n",
    "\n",
    "    root1 = eigval_pr[0]\n",
    "    # print root1\n",
    "    root2 = eigval_pr[1]\n",
    "    l_1 = J[0,0]\n",
    "    l_2 = J[1,1]\n",
    "    imp = J[0,1]\n",
    "    xx=0\n",
    "    yy=0\n",
    "\n",
    "\n",
    "\n",
    "    if isinstance(root1,complex):\n",
    "        alpha = root1.real\n",
    "        if abs(alpha)<2e-1:\n",
    "            phase= 'Center'\n",
    "            phase_no =  center\n",
    "    #       fit_map[0+xx*11:11+xx*11 , 0+yy*11:11+yy*11]\n",
    "        else:\n",
    "            phase = 'Spiral'\n",
    "            phase_no =  spiral\n",
    "    elif ((np.sign(l_1)==np.sign(l_2)) and (abs(abs(l_1)-abs(l_2))<= 9e-1)):\n",
    "        if (1-imp)<0.1:\n",
    "            phase = 'Imroper'\n",
    "            phase_no = imroper\n",
    "        else:\n",
    "            phase = 'Star'\n",
    "            phase_no = star\n",
    "\n",
    "\n",
    "    #       fit_map[0+xx*11:11+xx*11 , 0+yy*11:11+yy*11] = star\n",
    "    #       print fit_map\n",
    "\n",
    "    elif (abs(abs(l_1)-abs(l_2))>9e-1) and (np.sign(l_1)==np.sign(l_2)):\n",
    "        phase = 'Node'\n",
    "        phase_no = node\n",
    "\n",
    "    elif ((np.sign(l_1)!=np.sign(l_2))):\n",
    "        phase = 'Saddle'\n",
    "        phase_no = saddle\n",
    "\n",
    "#     print '*************Phase Portrait Classification*******************'\n",
    "\n",
    "#     print 'Type:' , phase\n",
    "    \n",
    "    \n",
    "#     print 'Leaving Phase for a window, phase number', phase_no\n",
    "#     print J\n",
    "#     print '*********'\n",
    "    return  phase_no\n",
    "\n",
    "\n",
    "\n"
   ]
  },
  {
   "cell_type": "code",
   "execution_count": null,
   "metadata": {},
   "outputs": [],
   "source": []
  }
 ],
 "metadata": {
  "kernelspec": {
   "display_name": "Python 2",
   "language": "python",
   "name": "python2"
  },
  "language_info": {
   "codemirror_mode": {
    "name": "ipython",
    "version": 2
   },
   "file_extension": ".py",
   "mimetype": "text/x-python",
   "name": "python",
   "nbconvert_exporter": "python",
   "pygments_lexer": "ipython2",
   "version": "2.7.14"
  }
 },
 "nbformat": 4,
 "nbformat_minor": 2
}
